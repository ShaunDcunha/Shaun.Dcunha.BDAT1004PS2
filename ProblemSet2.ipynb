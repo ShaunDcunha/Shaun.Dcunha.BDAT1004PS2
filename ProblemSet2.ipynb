{
 "cells": [
  {
   "cell_type": "markdown",
   "metadata": {},
   "source": [
    "# Q1"
   ]
  },
  {
   "cell_type": "code",
   "execution_count": 68,
   "metadata": {},
   "outputs": [
    {
     "data": {
      "text/plain": [
       "6"
      ]
     },
     "execution_count": 68,
     "metadata": {},
     "output_type": "execute_result"
    }
   ],
   "source": [
    "a = 0 \n",
    "def b():     #This b() function is use to add 2 everytime to variable a\n",
    "    global a\n",
    "    a = c(a)\n",
    "def c(a):\n",
    "    return a + 2\n",
    "\n",
    "b()    #  here b() is 0 +2 =2\n",
    "b()    #  here b() is 2 +2 =4\n",
    "b()    #  here b() is 4 +2 = 6\n",
    "a      # finally a becomes 6"
   ]
  },
  {
   "cell_type": "markdown",
   "metadata": {},
   "source": [
    "# Q2"
   ]
  },
  {
   "cell_type": "code",
   "execution_count": 63,
   "metadata": {
    "dotnet_interactive": {
     "language": "csharp"
    },
    "polyglot_notebook": {
     "kernelName": "csharp"
    }
   },
   "outputs": [
    {
     "data": {
      "text/plain": [
       "'File midterm.py not found.'"
      ]
     },
     "execution_count": 63,
     "metadata": {},
     "output_type": "execute_result"
    }
   ],
   "source": [
    "def fileLength(filename): \t\n",
    "    #reading data \t\n",
    "    try: \t\t\n",
    "        f=open(filename,'r') \t\t\n",
    "        #reading all lines as a list of list \t\t\n",
    "        data=f.readlines() \t\t\n",
    "        #creating a single line from all lines \t\t\n",
    "        line=\"\" \t\t\n",
    "        for i in data: \t\t\t\n",
    "            line+=i \t\t\n",
    "            result=len(line) \t\t\n",
    "        return result \t\n",
    "    except FileNotFoundError: \t\t\n",
    "        return (\"File {} not found.\".format(filename))  \n",
    "        \n",
    "(fileLength('midterm.py')) "
   ]
  },
  {
   "cell_type": "markdown",
   "metadata": {},
   "source": [
    "# Q3"
   ]
  },
  {
   "cell_type": "code",
   "execution_count": 39,
   "metadata": {},
   "outputs": [
    {
     "name": "stdout",
     "output_type": "stream",
     "text": [
      "['doll', 'firetruck', 'kitten']\n",
      "I am a marsupial. My pouch contains a doll, firetruck, and kitten.\n",
      "I am a Kangaroo located at coordinates (0,0)\n",
      "I am a Kangaroo located at coordinates (0,0)\n",
      "I am a Kangaroo located at coordinates (3,0)\n"
     ]
    }
   ],
   "source": [
    "class Marsupial:\n",
    "\n",
    "    #the constructor\n",
    "\n",
    "    def __init__(self):\n",
    "\n",
    "        # the pouch as a list\n",
    "\n",
    "        self.pouch=[]\n",
    "\n",
    "    # this appends stuff to the list\n",
    "\n",
    "    def put_in_pouch(self, stuff):\n",
    "\n",
    "        self.pouch=self.pouch+[stuff]\n",
    "\n",
    "    # this returns the pouch\n",
    "\n",
    "    def pouch_contents(self):\n",
    "\n",
    "        return self.pouch\n",
    "\n",
    "    def __str__(self):\n",
    "\n",
    "        stuff=\"\"\n",
    "\n",
    "        # if more than 1 item in pouch\n",
    "\n",
    "        if(len(self.pouch)>1):\n",
    "\n",
    "            # loops over the pouch until t-2 item\n",
    "\n",
    "            for i in range(len(self.pouch)-1):\n",
    "\n",
    "                stuff=stuff+self.pouch[i]+\", \"\n",
    "\n",
    "        stuff=stuff+\"and \"\n",
    "\n",
    "        # adds the last item\n",
    "\n",
    "        stuff=stuff+self.pouch[-1]+\".\"\n",
    "\n",
    " \n",
    "\n",
    "        return \"I am a marsupial. My pouch contains a \"+stuff\n",
    "    class Kangaroo (Marsupial):\n",
    "        pass\n",
    "        def __init__(self,x,y):\n",
    "            Marsupial.__init__(self)\n",
    "            self.x = x\n",
    "            self.y = y\n",
    "        def jump(self,dx,dy):\n",
    "                self.x += dx\n",
    "                self.y += dy\n",
    "        def __str__(self):\n",
    "                   return 'I am a Kangaroo located at coordinates ({},{})'.format(self.x,self.y)\n",
    "\n",
    "    \n",
    " \n",
    "\n",
    "m=Marsupial()\n",
    "\n",
    "m.put_in_pouch(\"doll\")\n",
    "\n",
    "m.put_in_pouch(\"firetruck\")\n",
    "\n",
    "m.put_in_pouch(\"kitten\")\n",
    "\n",
    "print(m.pouch_contents())\n",
    "\n",
    "print(m)\n",
    "\n",
    "\n",
    "k=Kangaroo(0,0)\n",
    "print(k) \n",
    "k.put_in_pouch('doll')\n",
    "k.put_in_pouch('firetruck')\n",
    "k.put_in_pouch('kitten')\n",
    "k.pouch_contents()\n",
    "print(k)\n",
    "\n",
    "k.jump(1,0)\n",
    "k.jump(1,0)\n",
    "k.jump(1,0)\n",
    "print(k) \n",
    "\n",
    "\n"
   ]
  },
  {
   "cell_type": "markdown",
   "metadata": {},
   "source": [
    "# Q4"
   ]
  },
  {
   "cell_type": "code",
   "execution_count": 13,
   "metadata": {},
   "outputs": [
    {
     "name": "stdout",
     "output_type": "stream",
     "text": [
      "1 "
     ]
    }
   ],
   "source": [
    "def collatz(x): \n",
    "    print(x, end=\" \") \n",
    "    if x == 1: \n",
    "        return \n",
    "    if x % 2 == 0: \n",
    "        collatz(x // 2) \n",
    "    else: collatz(3 * x + 1)\n",
    "\n",
    "\n",
    "collatz(1)\n"
   ]
  },
  {
   "cell_type": "code",
   "execution_count": 40,
   "metadata": {},
   "outputs": [
    {
     "name": "stdout",
     "output_type": "stream",
     "text": [
      "10 5 16 8 4 2 1 "
     ]
    }
   ],
   "source": [
    "collatz(10)"
   ]
  },
  {
   "cell_type": "markdown",
   "metadata": {},
   "source": [
    "# Q5"
   ]
  },
  {
   "cell_type": "code",
   "execution_count": 10,
   "metadata": {},
   "outputs": [
    {
     "data": {
      "text/plain": [
       "0"
      ]
     },
     "execution_count": 10,
     "metadata": {},
     "output_type": "execute_result"
    }
   ],
   "source": [
    "def binary(n):\n",
    "    if(n == 0):\n",
    "        return n \n",
    "    else:\n",
    "        binary(int(n/2))\n",
    "        print(n%2,end =\"\")\n",
    "        \n",
    "        \n",
    "binary(0)"
   ]
  },
  {
   "cell_type": "code",
   "execution_count": 4,
   "metadata": {},
   "outputs": [
    {
     "name": "stdout",
     "output_type": "stream",
     "text": [
      "1"
     ]
    }
   ],
   "source": [
    "binary(1)"
   ]
  },
  {
   "cell_type": "code",
   "execution_count": 5,
   "metadata": {},
   "outputs": [
    {
     "name": "stdout",
     "output_type": "stream",
     "text": [
      "11"
     ]
    }
   ],
   "source": [
    "binary(3)"
   ]
  },
  {
   "cell_type": "code",
   "execution_count": 6,
   "metadata": {},
   "outputs": [
    {
     "name": "stdout",
     "output_type": "stream",
     "text": [
      "1001"
     ]
    }
   ],
   "source": [
    "binary(9)"
   ]
  },
  {
   "cell_type": "markdown",
   "metadata": {},
   "source": [
    "# Q6"
   ]
  },
  {
   "cell_type": "code",
   "execution_count": 57,
   "metadata": {},
   "outputs": [
    {
     "name": "stdout",
     "output_type": "stream",
     "text": [
      "W3C Mission\n",
      " Principles\n"
     ]
    }
   ],
   "source": [
    "from html.parser import HTMLParser                        \n",
    "\n",
    "class HeadingParser(HTMLParser):                          \n",
    "    def __init__(self):                                   \n",
    "        super().__init__()                               \n",
    "        self.current_tag = None                           \n",
    "        self.indentation = 0                              \n",
    "\n",
    "    def handle_starttag(self, tag, attrs):                            \n",
    "        if tag in ['h1', 'h2', 'h3', 'h4', 'h5', 'h6']:   \n",
    "            self.current_tag = tag                        \n",
    "            self.indentation = int(tag[1]) - 1            \n",
    "\n",
    "    def handle_endtag(self, tag):                         \n",
    "        if tag in ['h1', 'h2', 'h3', 'h4', 'h5', 'h6']:   \n",
    "            self.current_tag = None                       \n",
    "\n",
    "    def handle_data(self, data):                          \n",
    "        if self.current_tag:                             \n",
    "            print(' ' * self.indentation + data)          \n",
    "\n",
    "\n",
    "\n",
    "with open(\"C:\\BDAT Sem1\\Data Programming\\W3c.html\", \"r\") as file:        \n",
    "    html_code = file.read()                               \n",
    "\n",
    "parser = HeadingParser()                                  \n",
    "parser.feed(html_code)                                    \n"
   ]
  },
  {
   "cell_type": "markdown",
   "metadata": {},
   "source": [
    "# Q7"
   ]
  },
  {
   "cell_type": "code",
   "execution_count": 64,
   "metadata": {},
   "outputs": [
    {
     "name": "stdout",
     "output_type": "stream",
     "text": [
      "https://en.wikipedia.org/\n",
      " https://en.wikipedia.org/#bodyContent\n",
      " https://en.wikipedia.org/wiki/Main_Page\n",
      " https://en.wikipedia.org/wiki/Wikipedia:Contents\n",
      " https://en.wikipedia.org/wiki/Portal:Current_events\n",
      " https://en.wikipedia.org/wiki/Special:Random\n",
      " https://en.wikipedia.org/wiki/Wikipedia:About\n",
      " https://en.wikipedia.org/wiki/Wikipedia:Contact_us\n",
      " https://donate.wikimedia.org/wiki/Special:FundraiserRedirector?utm_source=donate&utm_medium=sidebar&utm_campaign=C13_en.wikipedia.org&uselang=en\n",
      " https://en.wikipedia.org/wiki/Help:Contents\n",
      " https://en.wikipedia.org/wiki/Help:Introduction\n",
      " https://en.wikipedia.org/wiki/Wikipedia:Community_portal\n",
      " https://en.wikipedia.org/wiki/Special:RecentChanges\n",
      " https://en.wikipedia.org/wiki/Wikipedia:File_upload_wizard\n",
      " https://en.wikipedia.org/wiki/Main_Page\n",
      " https://en.wikipedia.org/wiki/Special:Search\n",
      " https://en.wikipedia.org/w/index.php?title=Special:CreateAccount&returnto=Main+Page\n",
      " https://en.wikipedia.org/w/index.php?title=Special:UserLogin&returnto=Main+Page\n",
      " https://en.wikipedia.org/w/index.php?title=Special:CreateAccount&returnto=Main+Page\n",
      " https://en.wikipedia.org/w/index.php?title=Special:UserLogin&returnto=Main+Page\n",
      " https://en.wikipedia.org/wiki/Help:Introduction\n",
      " https://en.wikipedia.org/wiki/Special:MyContributions\n",
      " https://en.wikipedia.org/wiki/Special:MyTalk\n",
      " https://en.wikipedia.org/wiki/Main_Page\n",
      " https://en.wikipedia.org/wiki/Talk:Main_Page\n",
      " https://en.wikipedia.org/wiki/Main_Page\n",
      " https://en.wikipedia.org/w/index.php?title=Main_Page&action=edit\n",
      " https://en.wikipedia.org/w/index.php?title=Main_Page&action=history\n",
      " https://en.wikipedia.org/wiki/Main_Page\n",
      " https://en.wikipedia.org/w/index.php?title=Main_Page&action=edit\n",
      " https://en.wikipedia.org/w/index.php?title=Main_Page&action=history\n",
      " https://en.wikipedia.org/wiki/Special:WhatLinksHere/Main_Page\n",
      " https://en.wikipedia.org/wiki/Special:RecentChangesLinked/Main_Page\n",
      " https://en.wikipedia.org/wiki/Wikipedia:File_Upload_Wizard\n",
      " https://en.wikipedia.org/wiki/Special:SpecialPages\n",
      " https://en.wikipedia.org/w/index.php?title=Main_Page&oldid=1114291180\n",
      " https://en.wikipedia.org/w/index.php?title=Main_Page&action=info\n",
      " https://en.wikipedia.org/w/index.php?title=Special:CiteThisPage&page=Main_Page&id=1114291180&wpFormIdentifier=titleform\n",
      " https://www.wikidata.org/wiki/Special:EntityPage/Q5296\n",
      " https://en.wikipedia.org/w/index.php?title=Special:DownloadAsPdf&page=Main_Page&action=show-download-screen\n",
      " https://en.wikipedia.org/w/index.php?title=Main_Page&printable=yes\n",
      " https://commons.wikimedia.org/wiki/Main_Page\n",
      " https://www.mediawiki.org/wiki/MediaWiki\n",
      " https://meta.wikimedia.org/wiki/Main_Page\n",
      " https://outreach.wikimedia.org/wiki/Main_Page\n",
      " https://wikisource.org/wiki/Main_Page\n",
      " https://species.wikimedia.org/wiki/Main_Page\n",
      " https://en.wikibooks.org/wiki/Main_Page\n",
      " https://www.wikidata.org/wiki/Wikidata:Main_Page\n",
      " https://wikimania.wikimedia.org/wiki/Wikimania\n",
      " https://en.wikinews.org/wiki/Main_Page\n",
      " https://en.wikiquote.org/wiki/Main_Page\n",
      " https://en.wikisource.org/wiki/Main_Page\n",
      " https://en.wikiversity.org/wiki/Wikiversity:Main_Page\n",
      " https://en.wikivoyage.org/wiki/Main_Page\n",
      " https://en.wiktionary.org/wiki/Wiktionary:Main_Page\n",
      " https://en.wikipedia.org/wiki/Wikipedia\n",
      " https://en.wikipedia.org/wiki/Free_content\n",
      " https://en.wikipedia.org/wiki/Encyclopedia\n",
      " https://en.wikipedia.org/wiki/Help:Introduction_to_Wikipedia\n",
      " https://en.wikipedia.org/wiki/Special:Statistics\n",
      " https://en.wikipedia.org/wiki/English_language\n",
      " https://en.wikipedia.org/wiki/File:Lung_small_cell_carcinoma_(1)_by_core_needle_biopsy.jpg\n",
      " https://en.wikipedia.org/wiki/Small-cell_carcinoma\n",
      " https://en.wikipedia.org/wiki/Lung_cancer\n",
      " https://en.wikipedia.org/wiki/Disease\n",
      " https://en.wikipedia.org/wiki/Cell_growth\n",
      " https://en.wikipedia.org/wiki/Lung\n",
      " https://en.wikipedia.org/wiki/Cancer\n",
      " https://en.wikipedia.org/wiki/Signs_and_symptoms\n",
      " https://en.wikipedia.org/wiki/Hemoptysis\n",
      " https://en.wikipedia.org/wiki/Surgery\n",
      " https://en.wikipedia.org/wiki/Chemotherapy\n",
      " https://en.wikipedia.org/wiki/Targeted_therapy\n",
      " https://en.wikipedia.org/wiki/Immunotherapy\n",
      " https://en.wikipedia.org/wiki/Prognosis\n",
      " https://en.wikipedia.org/wiki/Five-year_survival_rate\n",
      " https://en.wikipedia.org/wiki/Tobacco_smoking\n",
      " https://en.wikipedia.org/wiki/Genetics\n",
      " https://en.wikipedia.org/wiki/Radon\n",
      " https://en.wikipedia.org/wiki/Asbestos\n",
      " https://en.wikipedia.org/wiki/Air_pollution\n",
      " https://en.wikipedia.org/wiki/Lung_cancer\n",
      " https://en.wikipedia.org/wiki/Battle_of_Helena\n",
      " https://en.wikipedia.org/wiki/Mauritius_sheldgoose\n",
      " https://en.wikipedia.org/wiki/Thomas_A._Spragens\n",
      " https://en.wikipedia.org/wiki/Wikipedia:Today%27s_featured_article/July_2023\n",
      " https://lists.wikimedia.org/postorius/lists/daily-article-l.lists.wikimedia.org/\n",
      " https://en.wikipedia.org/wiki/Wikipedia:Featured_articles\n",
      " https://en.wikipedia.org/wiki/Wikipedia:About_Today%27s_featured_article\n",
      " https://en.wikipedia.org/wiki/File:Catherine_de_Parthenay-2.jpg\n",
      " https://en.wikipedia.org/wiki/Catherine_de_Parthenay\n",
      " https://en.wikipedia.org/wiki/French_Wars_of_Religion\n",
      " https://en.wikipedia.org/wiki/United_States_v._Strong\n",
      " https://en.wikipedia.org/wiki/United_States_Court_of_Appeals_for_the_First_Circuit\n",
      " https://en.wikipedia.org/wiki/Wanda_Warska\n",
      " https://en.wikipedia.org/wiki/The_Stylus_of_Boston_College\n",
      " https://en.wikipedia.org/wiki/Jeremiah_O%27Connor_(priest)\n",
      " https://en.wikipedia.org/wiki/Boston_College\n",
      " https://en.wikipedia.org/wiki/Qarmatians\n",
      " https://en.wikipedia.org/wiki/Sack_of_Mecca_(930)\n",
      " https://en.wikipedia.org/wiki/Hajj\n",
      " https://en.wikipedia.org/wiki/Kaaba\n",
      " https://en.wikipedia.org/wiki/Black_Stone\n",
      " https://en.wikipedia.org/wiki/Eastern_Arabia\n",
      " https://en.wikipedia.org/wiki/JetBlue\n",
      " https://en.wikipedia.org/wiki/Robin_Hayes_(businessman)\n",
      " https://en.wikipedia.org/wiki/Shirvanshah\n",
      " https://en.wikipedia.org/wiki/Persian_literature\n",
      " https://en.wikipedia.org/wiki/Arc_(browser)\n",
      " https://en.wikipedia.org/wiki/Wikipedia:Recent_additions\n",
      " https://en.wikipedia.org/wiki/Help:Your_first_article\n",
      " https://en.wikipedia.org/wiki/Template_talk:Did_you_know\n",
      " https://en.wikipedia.org/wiki/File:Jair_Bolsonaro_2022_(cropped).jpg\n",
      " https://en.wikipedia.org/wiki/Superior_Electoral_Court\n",
      " https://en.wikipedia.org/wiki/Jair_Bolsonaro\n",
      " https://en.wikipedia.org/wiki/2022_Brazilian_general_election\n",
      " https://en.wikipedia.org/wiki/Killing_of_Nahel_Merzouk\n",
      " https://en.wikipedia.org/wiki/Wagner_Group\n",
      " https://en.wikipedia.org/wiki/Wagner_Group_rebellion\n",
      " https://en.wikipedia.org/wiki/2023_Yinchuan_gas_explosion\n",
      " https://en.wikipedia.org/wiki/Yinchuan\n",
      " https://en.wikipedia.org/wiki/Portal:Current_events\n",
      " https://en.wikipedia.org/wiki/Russian_invasion_of_Ukraine\n",
      " https://en.wikipedia.org/wiki/2023_Sudan_conflict\n",
      " https://en.wikipedia.org/wiki/Deaths_in_2023\n",
      " https://en.wikipedia.org/wiki/Stephen_Owen_(politician)\n",
      " https://en.wikipedia.org/wiki/Corazon_Nu%C3%B1ez_Malanyaon\n",
      " https://en.wikipedia.org/wiki/Dilano_van_%27t_Hoff\n",
      " https://en.wikipedia.org/wiki/Marvin_Kitman\n",
      " https://en.wikipedia.org/wiki/Sue_Johanson\n",
      " https://en.wikipedia.org/wiki/Robert_Sherman_(music_critic)\n",
      " https://en.wikipedia.org/wiki/Wikipedia:In_the_news/Candidates\n",
      " https://en.wikipedia.org/wiki/July_5\n",
      " https://en.wikipedia.org/wiki/Fifth_of_July_(New_York)\n",
      " https://en.wikipedia.org/wiki/File:Juv%C3%A9nal_Habyarimana_(1980).jpg\n",
      " https://en.wikipedia.org/wiki/1841\n",
      " https://en.wikipedia.org/wiki/Thomas_Cook\n",
      " https://en.wikipedia.org/wiki/Thomas_Cook_%26_Son\n",
      " https://en.wikipedia.org/wiki/Leicester\n",
      " https://en.wikipedia.org/wiki/Loughborough\n",
      " https://en.wikipedia.org/wiki/1944\n",
      " https://en.wikipedia.org/wiki/World_War_II\n",
      " https://en.wikipedia.org/wiki/Operation_Windsor\n",
      " https://en.wikipedia.org/wiki/Carpiquet\n",
      " https://en.wikipedia.org/wiki/1946\n",
      " https://en.wikipedia.org/wiki/Bikini_Atoll\n",
      " https://en.wikipedia.org/wiki/Nuclear_weapon\n",
      " https://en.wikipedia.org/wiki/Operation_Crossroads\n",
      " https://en.wikipedia.org/wiki/Bikini\n",
      " https://en.wikipedia.org/wiki/1973\n",
      " https://en.wikipedia.org/wiki/Juv%C3%A9nal_Habyarimana\n",
      " https://en.wikipedia.org/wiki/1973_Rwandan_coup_d%27%C3%A9tat\n",
      " https://en.wikipedia.org/wiki/Totalitarianism\n",
      " https://en.wikipedia.org/wiki/2009\n",
      " https://en.wikipedia.org/wiki/July_2009_%C3%9Cr%C3%BCmqi_riots\n",
      " https://en.wikipedia.org/wiki/%C3%9Cr%C3%BCmqi\n",
      " https://en.wikipedia.org/wiki/Xinjiang\n",
      " https://en.wikipedia.org/wiki/Joan_of_the_Tower\n",
      " https://en.wikipedia.org/wiki/Kenji_Ito\n",
      " https://en.wikipedia.org/wiki/Lambert_Jackson_Woodburne\n",
      " https://en.wikipedia.org/wiki/Raffaella_Carr%C3%A0\n",
      " https://en.wikipedia.org/wiki/July_4\n",
      " https://en.wikipedia.org/wiki/July_5\n",
      " https://en.wikipedia.org/wiki/July_6\n",
      " https://en.wikipedia.org/wiki/Wikipedia:Selected_anniversaries/July\n",
      " https://lists.wikimedia.org/postorius/lists/daily-article-l.lists.wikimedia.org/\n",
      " https://en.wikipedia.org/wiki/List_of_days_of_the_year\n",
      " https://en.wikipedia.org/wiki/File:Wulfenite_-_Red_Cloud_mine,_La_Paz_Co.,_Arizona,_USA.jpg\n",
      " https://en.wikipedia.org/wiki/Wulfenite\n",
      " https://en.wikipedia.org/wiki/Molybdate\n",
      " https://en.wikipedia.org/wiki/Chemical_formula\n",
      " https://en.wikipedia.org/wiki/Bad_Bleiberg\n",
      " https://en.wikipedia.org/wiki/Franz_Xaver_von_Wulfen\n",
      " https://en.wikipedia.org/wiki/Matrix_(geology)\n",
      " https://en.wikipedia.org/wiki/Yuma,_Arizona\n",
      " https://commons.wikimedia.org/wiki/user:lifar\n",
      " https://en.wikipedia.org/wiki/Template:POTD/2023-07-04\n",
      " https://en.wikipedia.org/wiki/Template:POTD/2023-07-03\n",
      " https://en.wikipedia.org/wiki/Template:POTD/2023-07-02\n",
      " https://en.wikipedia.org/wiki/Wikipedia:Picture_of_the_day/Archive\n",
      " https://en.wikipedia.org/wiki/Wikipedia:Featured_pictures\n",
      " https://en.wikipedia.org/wiki/Wikipedia:Community_portal\n",
      " https://en.wikipedia.org/wiki/Wikipedia:Village_pump\n",
      " https://en.wikipedia.org/wiki/Wikipedia:News\n",
      " https://en.wikipedia.org/wiki/Wikipedia:Teahouse\n",
      " https://en.wikipedia.org/wiki/Wikipedia:Help_desk\n",
      " https://en.wikipedia.org/wiki/Wikipedia:Reference_desk\n",
      " https://en.wikipedia.org/wiki/Wikipedia:Contents/Portals\n",
      " https://en.wikipedia.org/wiki/Wikimedia_Foundation\n",
      " https://wikimediafoundation.org/our-work/wikimedia-projects/\n",
      " https://commons.wikimedia.org/wiki/\n",
      " https://commons.wikimedia.org/wiki/\n",
      " https://www.mediawiki.org/wiki/\n",
      " https://www.mediawiki.org/wiki/\n",
      " https://meta.wikimedia.org/wiki/\n",
      " https://meta.wikimedia.org/wiki/\n",
      " https://en.wikibooks.org/wiki/\n",
      " https://en.wikibooks.org/wiki/\n",
      " https://www.wikidata.org/wiki/\n",
      " https://www.wikidata.org/wiki/\n",
      " https://en.wikinews.org/wiki/\n",
      " https://en.wikinews.org/wiki/\n",
      " https://en.wikiquote.org/wiki/\n",
      " https://en.wikiquote.org/wiki/\n",
      " https://en.wikisource.org/wiki/\n",
      " https://en.wikisource.org/wiki/\n",
      " https://species.wikimedia.org/wiki/\n",
      " https://species.wikimedia.org/wiki/\n",
      " https://en.wikiversity.org/wiki/\n",
      " https://en.wikiversity.org/wiki/\n",
      " https://en.wikivoyage.org/wiki/\n",
      " https://en.wikivoyage.org/wiki/\n",
      " https://en.wiktionary.org/wiki/\n",
      " https://en.wiktionary.org/wiki/\n",
      " https://en.wikipedia.org/wiki/English_language\n",
      " https://meta.wikimedia.org/wiki/List_of_Wikipedias\n",
      " https://ar.wikipedia.org/wiki/\n",
      " https://de.wikipedia.org/wiki/\n",
      " https://es.wikipedia.org/wiki/\n",
      " https://fr.wikipedia.org/wiki/\n",
      " https://it.wikipedia.org/wiki/\n",
      " https://nl.wikipedia.org/wiki/\n",
      " https://ja.wikipedia.org/wiki/\n",
      " https://pl.wikipedia.org/wiki/\n",
      " https://pt.wikipedia.org/wiki/\n",
      " https://ru.wikipedia.org/wiki/\n",
      " https://sv.wikipedia.org/wiki/\n",
      " https://uk.wikipedia.org/wiki/\n",
      " https://vi.wikipedia.org/wiki/\n",
      " https://zh.wikipedia.org/wiki/\n",
      " https://id.wikipedia.org/wiki/\n",
      " https://ms.wikipedia.org/wiki/\n",
      " https://zh-min-nan.wikipedia.org/wiki/\n",
      " https://bg.wikipedia.org/wiki/\n",
      " https://ca.wikipedia.org/wiki/\n",
      " https://cs.wikipedia.org/wiki/\n",
      " https://da.wikipedia.org/wiki/\n",
      " https://eo.wikipedia.org/wiki/\n",
      " https://eu.wikipedia.org/wiki/\n",
      " https://fa.wikipedia.org/wiki/\n",
      " https://he.wikipedia.org/wiki/\n",
      " https://ko.wikipedia.org/wiki/\n",
      " https://hu.wikipedia.org/wiki/\n",
      " https://no.wikipedia.org/wiki/\n",
      " https://ro.wikipedia.org/wiki/\n",
      " https://sr.wikipedia.org/wiki/\n",
      " https://sh.wikipedia.org/wiki/\n",
      " https://fi.wikipedia.org/wiki/\n",
      " https://tr.wikipedia.org/wiki/\n",
      " https://ast.wikipedia.org/wiki/\n",
      " https://bn.wikipedia.org/wiki/\n",
      " https://bs.wikipedia.org/wiki/\n",
      " https://et.wikipedia.org/wiki/\n",
      " https://el.wikipedia.org/wiki/\n",
      " https://simple.wikipedia.org/wiki/\n",
      " https://fy.wikipedia.org/wiki/\n",
      " https://ga.wikipedia.org/wiki/\n",
      " https://gl.wikipedia.org/wiki/\n",
      " https://hr.wikipedia.org/wiki/\n",
      " https://ka.wikipedia.org/wiki/\n",
      " https://lv.wikipedia.org/wiki/\n",
      " https://lt.wikipedia.org/wiki/\n",
      " https://ml.wikipedia.org/wiki/\n",
      " https://mk.wikipedia.org/wiki/\n",
      " https://nn.wikipedia.org/wiki/\n",
      " https://pa.wikipedia.org/wiki/\n",
      " https://sq.wikipedia.org/wiki/\n",
      " https://sk.wikipedia.org/wiki/\n",
      " https://sl.wikipedia.org/wiki/\n",
      " https://th.wikipedia.org/wiki/\n",
      " https://en.wikipedia.org/w/index.php?title=Main_Page&oldid=1114291180\n",
      " https://ar.wikipedia.org/wiki/\n",
      " https://bn.wikipedia.org/wiki/\n",
      " https://bg.wikipedia.org/wiki/\n",
      " https://bs.wikipedia.org/wiki/\n",
      " https://ca.wikipedia.org/wiki/\n",
      " https://cs.wikipedia.org/wiki/\n",
      " https://da.wikipedia.org/wiki/\n",
      " https://de.wikipedia.org/wiki/\n",
      " https://et.wikipedia.org/wiki/\n",
      " https://el.wikipedia.org/wiki/\n",
      " https://es.wikipedia.org/wiki/\n",
      " https://eo.wikipedia.org/wiki/\n",
      " https://eu.wikipedia.org/wiki/\n",
      " https://fa.wikipedia.org/wiki/\n",
      " https://fr.wikipedia.org/wiki/\n",
      " https://gl.wikipedia.org/wiki/\n",
      " https://ko.wikipedia.org/wiki/\n",
      " https://hr.wikipedia.org/wiki/\n",
      " https://id.wikipedia.org/wiki/\n",
      " https://it.wikipedia.org/wiki/\n",
      " https://he.wikipedia.org/wiki/\n",
      " https://ka.wikipedia.org/wiki/\n",
      " https://lv.wikipedia.org/wiki/\n",
      " https://lt.wikipedia.org/wiki/\n",
      " https://hu.wikipedia.org/wiki/\n",
      " https://mk.wikipedia.org/wiki/\n",
      " https://ms.wikipedia.org/wiki/\n",
      " https://nl.wikipedia.org/wiki/\n",
      " https://ja.wikipedia.org/wiki/\n",
      " https://no.wikipedia.org/wiki/\n",
      " https://nn.wikipedia.org/wiki/\n",
      " https://pl.wikipedia.org/wiki/\n",
      " https://pt.wikipedia.org/wiki/\n",
      " https://ro.wikipedia.org/wiki/\n",
      " https://ru.wikipedia.org/wiki/\n",
      " https://simple.wikipedia.org/wiki/\n",
      " https://sk.wikipedia.org/wiki/\n",
      " https://sl.wikipedia.org/wiki/\n",
      " https://sr.wikipedia.org/wiki/\n",
      " https://sh.wikipedia.org/wiki/\n",
      " https://fi.wikipedia.org/wiki/\n",
      " https://sv.wikipedia.org/wiki/\n",
      " https://th.wikipedia.org/wiki/\n",
      " https://tr.wikipedia.org/wiki/\n",
      " https://uk.wikipedia.org/wiki/\n",
      " https://vi.wikipedia.org/wiki/\n",
      " https://zh.wikipedia.org/wiki/\n",
      " https://creativecommons.org/licenses/by-sa/4.0/\n",
      " https://creativecommons.org/licenses/by-sa/4.0/\n",
      " https://foundation.wikimedia.org/wiki/Terms_of_Use\n",
      " https://foundation.wikimedia.org/wiki/Privacy_policy\n",
      " https://www.wikimediafoundation.org/\n",
      " https://foundation.wikimedia.org/wiki/Special:MyLanguage/Policy:Privacy_policy\n",
      " https://en.wikipedia.org/wiki/Wikipedia:About\n",
      " https://en.wikipedia.org/wiki/Wikipedia:General_disclaimer\n",
      " https://en.wikipedia.org/wiki/Wikipedia:Contact_us\n",
      " https://foundation.wikimedia.org/wiki/Special:MyLanguage/Universal_Code_of_Conduct\n",
      " https://en.m.wikipedia.org/w/index.php?title=Main_Page&mobileaction=toggle_view_mobile\n",
      " https://developer.wikimedia.org\n",
      " https://stats.wikimedia.org/#/en.wikipedia.org\n",
      " https://foundation.wikimedia.org/wiki/Special:MyLanguage/Policy:Cookie_statement\n",
      " https://wikimediafoundation.org/\n",
      " https://www.mediawiki.org/\n"
     ]
    }
   ],
   "source": [
    "import urllib.request                                                                   \n",
    "from bs4 import BeautifulSoup                                                           \n",
    "from urllib.parse import urljoin                                                        \n",
    "\n",
    "def webdir(url, depth, indent):                                                         \n",
    "    print(' ' * indent + url)                                                           \n",
    "    if depth <= 1:                                                                      \n",
    "        return\n",
    "    try:                                                                               \n",
    "        \n",
    "        with urllib.request.urlopen('https://en.wikipedia.org/') as response:     \n",
    "            html = response.read()                                                      \n",
    "        soup = BeautifulSoup(html, 'html.parser')                                       \n",
    "\n",
    "        \n",
    "        for link in soup.find_all('a'):                              \n",
    "            href = link.get('href')                                                     \n",
    "            if href and not href.startswith('mailto:'):                                 \n",
    "                \n",
    "                href = urljoin(url, href)                                               \n",
    "                webdir(href, depth - 1, indent + 1)                                     \n",
    "    except:                                                                             \n",
    "        return\n",
    "\n",
    "webdir('https://en.wikipedia.org/', 2, 0) "
   ]
  },
  {
   "cell_type": "markdown",
   "metadata": {},
   "source": [
    "# Q8"
   ]
  },
  {
   "cell_type": "code",
   "execution_count": 16,
   "metadata": {},
   "outputs": [
    {
     "ename": "OperationalError",
     "evalue": "table Weather already exists",
     "output_type": "error",
     "traceback": [
      "\u001b[1;31m---------------------------------------------------------------------------\u001b[0m",
      "\u001b[1;31mOperationalError\u001b[0m                          Traceback (most recent call last)",
      "Cell \u001b[1;32mIn[16], line 7\u001b[0m\n\u001b[0;32m      4\u001b[0m c \u001b[38;5;241m=\u001b[39m conn\u001b[38;5;241m.\u001b[39mcursor()\u001b[38;5;66;03m# Creating a cursor object\u001b[39;00m\n\u001b[0;32m      6\u001b[0m \u001b[38;5;66;03m# Creating the table\u001b[39;00m\n\u001b[1;32m----> 7\u001b[0m \u001b[43mc\u001b[49m\u001b[38;5;241;43m.\u001b[39;49m\u001b[43mexecute\u001b[49m\u001b[43m(\u001b[49m\u001b[38;5;124;43m'''\u001b[39;49m\u001b[38;5;124;43m                                                                   \u001b[39;49m\n\u001b[0;32m      8\u001b[0m \u001b[38;5;124;43m    CREATE TABLE Weather (\u001b[39;49m\n\u001b[0;32m      9\u001b[0m \u001b[38;5;124;43m        City text, \u001b[39;49m\n\u001b[0;32m     10\u001b[0m \u001b[38;5;124;43m        Country text, \u001b[39;49m\n\u001b[0;32m     11\u001b[0m \u001b[38;5;124;43m        Season text, \u001b[39;49m\n\u001b[0;32m     12\u001b[0m \u001b[38;5;124;43m        Temperature real, \u001b[39;49m\n\u001b[0;32m     13\u001b[0m \u001b[38;5;124;43m        Rainfall real )\u001b[39;49m\n\u001b[0;32m     14\u001b[0m \u001b[38;5;124;43m'''\u001b[39;49m\u001b[43m)\u001b[49m\n\u001b[0;32m     16\u001b[0m \u001b[38;5;66;03m# Inserting data into table\u001b[39;00m\n\u001b[0;32m     17\u001b[0m data \u001b[38;5;241m=\u001b[39m [\n\u001b[0;32m     18\u001b[0m     (\u001b[38;5;124m'\u001b[39m\u001b[38;5;124mMumbai\u001b[39m\u001b[38;5;124m'\u001b[39m, \u001b[38;5;124m'\u001b[39m\u001b[38;5;124mIndia\u001b[39m\u001b[38;5;124m'\u001b[39m, \u001b[38;5;124m'\u001b[39m\u001b[38;5;124mWinter\u001b[39m\u001b[38;5;124m'\u001b[39m, \u001b[38;5;241m24.8\u001b[39m, \u001b[38;5;241m5.9\u001b[39m),\n\u001b[0;32m     19\u001b[0m     (\u001b[38;5;124m'\u001b[39m\u001b[38;5;124mMumbai\u001b[39m\u001b[38;5;124m'\u001b[39m, \u001b[38;5;124m'\u001b[39m\u001b[38;5;124mIndia\u001b[39m\u001b[38;5;124m'\u001b[39m, \u001b[38;5;124m'\u001b[39m\u001b[38;5;124mSpring\u001b[39m\u001b[38;5;124m'\u001b[39m, \u001b[38;5;241m28.4\u001b[39m, \u001b[38;5;241m16.2\u001b[39m),\n\u001b[1;32m   (...)\u001b[0m\n\u001b[0;32m     29\u001b[0m     (\u001b[38;5;124m'\u001b[39m\u001b[38;5;124mCairo\u001b[39m\u001b[38;5;124m'\u001b[39m, \u001b[38;5;124m'\u001b[39m\u001b[38;5;124mEgypt\u001b[39m\u001b[38;5;124m'\u001b[39m, \u001b[38;5;124m'\u001b[39m\u001b[38;5;124mFall\u001b[39m\u001b[38;5;124m'\u001b[39m, \u001b[38;5;241m22.2\u001b[39m, \u001b[38;5;241m4.5\u001b[39m),\n\u001b[0;32m     30\u001b[0m ]\n",
      "\u001b[1;31mOperationalError\u001b[0m: table Weather already exists"
     ]
    }
   ],
   "source": [
    "import sqlite3\n",
    "   \n",
    "conn = sqlite3.connect('weather.db')                                                                                     \n",
    "c = conn.cursor()# Creating a cursor object\n",
    "\n",
    "# Creating the table\n",
    "c.execute('''                                                                   \n",
    "    CREATE TABLE Weather (\n",
    "        City text, \n",
    "        Country text, \n",
    "        Season text, \n",
    "        Temperature real, \n",
    "        Rainfall real )\n",
    "''')\n",
    "\n",
    "# Inserting data into table\n",
    "data = [\n",
    "    ('Mumbai', 'India', 'Winter', 24.8, 5.9),\n",
    "    ('Mumbai', 'India', 'Spring', 28.4, 16.2),\n",
    "    ('Mumbai', 'India', 'Summer', 27.9, 1549.4),\n",
    "    ('Mumbai', 'India', 'Fall', 27.6, 346.0),\n",
    "    ('London', 'United Kingdom', 'Winter', 4.2, 207.7),\n",
    "    ('London', 'United Kingdom', 'Spring', 8.3, 169.6),\n",
    "    ('London', 'United Kingdom', 'Summer', 15.7, 157.0),\n",
    "    ('London', 'United Kingdom', 'Fall', 10.4, 218.5),\n",
    "    ('Cairo', 'Egypt', 'Winter', 13.6, 16.5),\n",
    "    ('Cairo', 'Egypt', 'Spring', 20.7, 6.5),\n",
    "    ('Cairo', 'Egypt', 'Summer', 27.7, 0.1),\n",
    "    ('Cairo', 'Egypt', 'Fall', 22.2, 4.5),\n",
    "]\n",
    "\n",
    "c.executemany(''' INSERT INTO Weather VALUES (?, ?, ?, ?, ?) ''', data)\n",
    "\n",
    "\n",
    "# a) All the temperature data.\n",
    "c.execute('SELECT Temperature FROM Weather')\n",
    "print('All temperature data:', cursor.fetchall())                                                                          \n",
    "print('\\n')\n",
    "\n",
    "\n",
    "# b) All the cities, but without repetition.\n",
    "c.execute('SELECT DISTINCT City FROM Weather')\n",
    "print('All unique cities:', cursor.fetchall())\n",
    "print('\\n')\n",
    "\n",
    "\n",
    "# c) All the records for India.\n",
    "c.execute(\"SELECT * FROM Weather WHERE Country='India'\")\n",
    "print('All records for India:', cursor.fetchall())\n",
    "print('\\n')\n",
    "\n",
    "\n",
    "# d) All the Fall records.\n",
    "c.execute(\"SELECT * FROM Weather WHERE Season='Fall'\")\n",
    "print('All Fall records:', cursor.fetchall())\n",
    "print('\\n')\n",
    "\n",
    "\n",
    "# e) The city, country, and season for which the average rainfall is between 200 and 400 millimeters.\n",
    "c.execute(\"SELECT City, Country, Season FROM Weather WHERE Rainfall BETWEEN 200 AND 400\")\n",
    "print('City, Country, and Season with Rainfall between 200 and 400 mm:', cursor.fetchall())\n",
    "print('\\n')\n",
    "\n",
    "\n",
    "# f) The city and country for which the average Fall temperature is above 20 degrees, in increasing temperature order.\n",
    "c.execute(\"SELECT City, Country FROM Weather WHERE Season='Fall' AND Temperature>20 ORDER BY Temperature ASC\")\n",
    "print('City and Country with Fall Temperature above 20 degrees:', cursor.fetchall())\n",
    "print('\\n')\n",
    "\n",
    "\n",
    "# g) The total annual rainfall for Cairo.\n",
    "c.execute(\"SELECT SUM(Rainfall) FROM Weather WHERE City='Cairo'\")\n",
    "print('Total annual rainfall for Cairo:', cursor.fetchall())\n",
    "print('\\n')\n",
    "\n",
    "\n",
    "# h) The total rainfall for each season.\n",
    "c.execute(\"SELECT Season, SUM(Rainfall) FROM Weather GROUP BY Season\")\n",
    "print('Total rainfall for each season:', cursor.fetchall())\n",
    "\n",
    "\n",
    "\n",
    "conn.commit()                                                                                                               \n",
    "conn.close()"
   ]
  },
  {
   "cell_type": "markdown",
   "metadata": {},
   "source": [
    "# Q9"
   ]
  },
  {
   "cell_type": "code",
   "execution_count": 8,
   "metadata": {},
   "outputs": [
    {
     "name": "stdout",
     "output_type": "stream",
     "text": [
      "['THE', 'QUICK', 'BROWN', 'FOX', 'JUMPS', 'OVER', 'THE', 'LAZY', 'DOG']\n",
      "['the', 'quick', 'brown', 'fox', 'jumps', 'over', 'the', 'lazy', 'dog']\n",
      "[3, 5, 5, 3, 5, 4, 3, 4, 3]\n",
      "[['THE', 'the', 3], ['QUICK', 'quick', 5], ['BROWN', 'brown', 5], ['FOX', 'fox', 3], ['JUMPS', 'jumps', 5], ['OVER', 'over', 4], ['THE', 'the', 3], ['LAZY', 'lazy', 4], ['DOG', 'dog', 3]]\n",
      "['quick', 'brown', 'jumps', 'over', 'lazy']\n"
     ]
    }
   ],
   "source": [
    "words = ['The', 'quick', 'brown', 'fox', 'jumps', 'over', 'the', 'lazy', 'dog']  \n",
    "# Printing all words upper case \n",
    "print([x.upper() for x in words])  \n",
    "# Printing all words lower case \n",
    "print([x.lower() for x in words]) \n",
    " # Printing length of each word \n",
    "print([len(x) for x in words])  \n",
    "# Printing the list containing a list for every word of list words, \n",
    "# where each list contains the word in uppercase and lowercase and the length of the word \n",
    "print([[x.upper(), x.lower(), len(x)] for x in words])  \n",
    "# Printing the list of words in list words containing 4 or more characters \n",
    "print([x for x in words if len(x)>=4])\n",
    " "
   ]
  }
 ],
 "metadata": {
  "kernelspec": {
   "display_name": "Python 3 (ipykernel)",
   "language": "python",
   "name": "python3"
  },
  "language_info": {
   "codemirror_mode": {
    "name": "ipython",
    "version": 3
   },
   "file_extension": ".py",
   "mimetype": "text/x-python",
   "name": "python",
   "nbconvert_exporter": "python",
   "pygments_lexer": "ipython3",
   "version": "3.10.9"
  },
  "polyglot_notebook": {
   "kernelInfo": {
    "defaultKernelName": "csharp",
    "items": [
     {
      "aliases": [],
      "name": "csharp"
     }
    ]
   }
  }
 },
 "nbformat": 4,
 "nbformat_minor": 2
}
